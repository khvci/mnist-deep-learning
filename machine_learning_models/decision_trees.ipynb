{
 "cells": [
  {
   "cell_type": "code",
   "execution_count": 13,
   "metadata": {},
   "outputs": [],
   "source": [
    "import pandas as pd\n",
    "from sklearn.model_selection import train_test_split\n",
    "from sklearn.tree import DecisionTreeClassifier\n",
    "from sklearn.metrics import accuracy_score, precision_score, recall_score, f1_score, roc_curve, auc, confusion_matrix, classification_report\n",
    "import matplotlib.pyplot as plt\n",
    "\n",
    "# Veri setini yükle\n",
    "train_data = pd.read_csv('/home/kpo/Downloads/mnist-deep-learning/data/mnist_test.csv')\n",
    "#train_data = pd.read_csv('data/mnist_test.csv')\n",
    "test_data = pd.read_csv('/home/kpo/Downloads/mnist-deep-learning/data/mnist_test.csv')\n",
    "\n",
    "# Bağımsız değişkenleri ve hedef değişkeni ayır\n",
    "X_train = train_data.drop('label', axis=1)\n",
    "y_train = train_data['label']\n",
    "\n",
    "X_test = test_data.drop('label', axis=1)\n",
    "y_test = test_data['label']\n"
   ]
  },
  {
   "cell_type": "markdown",
   "metadata": {},
   "source": [
    "Şimdi, karar ağaçları modelini eğitelim:"
   ]
  },
  {
   "cell_type": "code",
   "execution_count": 14,
   "metadata": {},
   "outputs": [],
   "source": [
    "# Karar Ağacı modelini oluştur\n",
    "decision_tree_model = DecisionTreeClassifier(max_depth=10, random_state=42)\n",
    "\n",
    "# Modeli eğit\n",
    "decision_tree_model.fit(X_train, y_train)\n",
    "\n",
    "# Test veri seti üzerinde tahmin yap\n",
    "y_pred = decision_tree_model.predict(X_test)\n"
   ]
  },
  {
   "cell_type": "markdown",
   "metadata": {},
   "source": [
    "Şimdi, değerlendirme ölçütlerini kullanarak modelin performansını değerlendirelim:"
   ]
  },
  {
   "cell_type": "code",
   "execution_count": 15,
   "metadata": {},
   "outputs": [
    {
     "name": "stdout",
     "output_type": "stream",
     "text": [
      "Confusion Matrix:\n",
      "[[ 966    0    0    0    3    2    1    0    3    5]\n",
      " [   1 1117    3    3    2    3    2    0    4    0]\n",
      " [   8    8  961    2    9    2    3   14   16    9]\n",
      " [   5    4    9  931    6   15    5    7    3   25]\n",
      " [   1    0    1    3  924    2    4    1    3   43]\n",
      " [   5    4    1   16    5  838    8    4    2    9]\n",
      " [   9    4   11    5    5    5  911    4    4    0]\n",
      " [   4    3   19    1    6    0    3  958    2   32]\n",
      " [   1   13    6    7   13    7   10    7  889   21]\n",
      " [   4    3    6    8   16    8    5    7    7  945]]\n",
      "Classification Report:\n",
      "              precision    recall  f1-score   support\n",
      "\n",
      "           0       0.96      0.99      0.97       980\n",
      "           1       0.97      0.98      0.98      1135\n",
      "           2       0.94      0.93      0.94      1032\n",
      "           3       0.95      0.92      0.94      1010\n",
      "           4       0.93      0.94      0.94       982\n",
      "           5       0.95      0.94      0.94       892\n",
      "           6       0.96      0.95      0.95       958\n",
      "           7       0.96      0.93      0.94      1028\n",
      "           8       0.95      0.91      0.93       974\n",
      "           9       0.87      0.94      0.90      1009\n",
      "\n",
      "    accuracy                           0.94     10000\n",
      "   macro avg       0.94      0.94      0.94     10000\n",
      "weighted avg       0.94      0.94      0.94     10000\n",
      "\n",
      "Accuracy: 0.944\n",
      "Precision: 0.9446429301616698\n",
      "Recall: 0.944\n",
      "F1 Score: 0.9440702349297871\n"
     ]
    }
   ],
   "source": [
    "# Karışıklık matrisini oluştur\n",
    "conf_matrix = confusion_matrix(y_test, y_pred)\n",
    "print(\"Confusion Matrix:\")\n",
    "print(conf_matrix)\n",
    "\n",
    "# Sınıflandırma raporu\n",
    "class_report = classification_report(y_test, y_pred)\n",
    "print(\"Classification Report:\")\n",
    "print(class_report)\n",
    "\n",
    "# Değerlendirme ölçütlerini hesapla\n",
    "accuracy = accuracy_score(y_test, y_pred)\n",
    "precision = precision_score(y_test, y_pred, average='weighted')\n",
    "recall = recall_score(y_test, y_pred, average='weighted')\n",
    "f1 = f1_score(y_test, y_pred, average='weighted')\n",
    "\n",
    "# Yazdır\n",
    "print(f\"Accuracy: {accuracy}\")\n",
    "print(f\"Precision: {precision}\")\n",
    "print(f\"Recall: {recall}\")\n",
    "print(f\"F1 Score: {f1}\")\n"
   ]
  },
  {
   "cell_type": "code",
   "execution_count": null,
   "metadata": {},
   "outputs": [],
   "source": [
    "\n",
    "\n",
    "\n"
   ]
  }
 ],
 "metadata": {
  "kernelspec": {
   "display_name": "Python 3",
   "language": "python",
   "name": "python3"
  },
  "language_info": {
   "codemirror_mode": {
    "name": "ipython",
    "version": 3
   },
   "file_extension": ".py",
   "mimetype": "text/x-python",
   "name": "python",
   "nbconvert_exporter": "python",
   "pygments_lexer": "ipython3",
   "version": "3.11.5"
  }
 },
 "nbformat": 4,
 "nbformat_minor": 2
}
