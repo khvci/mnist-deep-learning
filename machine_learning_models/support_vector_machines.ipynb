{
 "cells": [
  {
   "cell_type": "code",
   "execution_count": 3,
   "metadata": {},
   "outputs": [],
   "source": [
    "import pandas as pd\n",
    "from sklearn.svm import SVC\n",
    "from sklearn.preprocessing import StandardScaler\n",
    "from sklearn.metrics import accuracy_score, precision_score, recall_score, f1_score, confusion_matrix, classification_report\n",
    "\n",
    "# Veri setini yükle\n",
    "train_data = pd.read_csv('/data/mnist_test.csv')\n",
    "test_data = pd.read_csv('/data/mnist_test.csv')\n",
    "\n",
    "# Bağımsız değişkenleri ve hedef değişkeni ayır\n",
    "X_train = train_data.drop('label', axis=1)\n",
    "y_train = train_data['label']\n",
    "\n",
    "X_test = test_data.drop('label', axis=1)\n",
    "y_test = test_data['label']\n"
   ]
  },
  {
   "cell_type": "markdown",
   "metadata": {},
   "source": [
    "Şimdi, Desktek Vektör Makineleri modelini eğitelim:"
   ]
  },
  {
   "cell_type": "code",
   "execution_count": 4,
   "metadata": {},
   "outputs": [],
   "source": [
    "\n",
    "# Veriyi ölçeklendir\n",
    "scaler_svm = StandardScaler()\n",
    "X_train_scaled_svm = scaler_svm.fit_transform(X_train)\n",
    "X_test_scaled_svm = scaler_svm.transform(X_test)\n",
    "\n",
    "# Destek Vektör Makineleri modelini oluştur\n",
    "svm_model = SVC(kernel='rbf', C=1.0, random_state=42)\n",
    "\n",
    "# Modeli eğit\n",
    "svm_model.fit(X_train_scaled_svm, y_train)\n",
    "\n",
    "# Test veri seti üzerinde tahmin yap\n",
    "y_pred = svm_model.predict(X_test_scaled_svm)"
   ]
  },
  {
   "cell_type": "markdown",
   "metadata": {},
   "source": [
    "Şimdi, değerlendirme ölçütlerini kullanarak modelin performansını değerlendirelim:"
   ]
  },
  {
   "cell_type": "code",
   "execution_count": 5,
   "metadata": {},
   "outputs": [
    {
     "name": "stdout",
     "output_type": "stream",
     "text": [
      "Confusion Matrix:\n",
      "[[ 975    0    0    0    0    1    2    1    1    0]\n",
      " [   0 1128    4    1    0    1    1    0    0    0]\n",
      " [   1    0 1022    0    1    0    0    2    6    0]\n",
      " [   0    0    0  996    0    3    0    5    4    2]\n",
      " [   0    0    1    0  970    0    1    1    1    8]\n",
      " [   0    0    0    3    0  881    6    0    1    1]\n",
      " [   2    2    0    0    2    4  948    0    0    0]\n",
      " [   0    8    5    0    1    1    0 1002    0   11]\n",
      " [   0    1    1    4    2    5    0    0  960    1]\n",
      " [   3    6    0    6    9    1    0    4    4  976]]\n",
      "Classification Report:\n",
      "              precision    recall  f1-score   support\n",
      "\n",
      "           0       0.99      0.99      0.99       980\n",
      "           1       0.99      0.99      0.99      1135\n",
      "           2       0.99      0.99      0.99      1032\n",
      "           3       0.99      0.99      0.99      1010\n",
      "           4       0.98      0.99      0.99       982\n",
      "           5       0.98      0.99      0.98       892\n",
      "           6       0.99      0.99      0.99       958\n",
      "           7       0.99      0.97      0.98      1028\n",
      "           8       0.98      0.99      0.98       974\n",
      "           9       0.98      0.97      0.97      1009\n",
      "\n",
      "    accuracy                           0.99     10000\n",
      "   macro avg       0.99      0.99      0.99     10000\n",
      "weighted avg       0.99      0.99      0.99     10000\n",
      "\n",
      "Accuracy: 0.9858\n",
      "Precision: 0.9857955575796165\n",
      "Recall: 0.9858\n",
      "F1 Score: 0.9857879150790719\n"
     ]
    }
   ],
   "source": [
    "# Karışıklık matrisini oluştur\n",
    "conf_matrix = confusion_matrix(y_test, y_pred)\n",
    "print(\"Confusion Matrix:\")\n",
    "print(conf_matrix)\n",
    "\n",
    "# Sınıflandırma raporu\n",
    "class_report = classification_report(y_test, y_pred)\n",
    "print(\"Classification Report:\")\n",
    "print(class_report)\n",
    "\n",
    "# Değerlendirme ölçütlerini hesapla\n",
    "accuracy = accuracy_score(y_test, y_pred)\n",
    "precision = precision_score(y_test, y_pred, average='weighted')\n",
    "recall = recall_score(y_test, y_pred, average='weighted')\n",
    "f1 = f1_score(y_test, y_pred, average='weighted')\n",
    "\n",
    "print(f\"Accuracy: {accuracy}\")\n",
    "print(f\"Precision: {precision}\")\n",
    "print(f\"Recall: {recall}\")\n",
    "print(f\"F1 Score: {f1}\")\n"
   ]
  },
  {
   "cell_type": "code",
   "execution_count": null,
   "metadata": {},
   "outputs": [],
   "source": [
    "\n",
    "\n",
    "\n"
   ]
  }
 ],
 "metadata": {
  "kernelspec": {
   "display_name": "Python 3",
   "language": "python",
   "name": "python3"
  },
  "language_info": {
   "codemirror_mode": {
    "name": "ipython",
    "version": 3
   },
   "file_extension": ".py",
   "mimetype": "text/x-python",
   "name": "python",
   "nbconvert_exporter": "python",
   "pygments_lexer": "ipython3",
   "version": "3.11.5"
  }
 },
 "nbformat": 4,
 "nbformat_minor": 2
}
