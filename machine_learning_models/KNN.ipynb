{
 "cells": [
  {
   "cell_type": "code",
   "execution_count": 4,
   "metadata": {},
   "outputs": [],
   "source": [
    "import pandas as pd\n",
    "from sklearn.neighbors import KNeighborsClassifier\n",
    "from sklearn.preprocessing import StandardScaler\n",
    "from sklearn.metrics import accuracy_score, precision_score, recall_score, f1_score, roc_curve, auc, confusion_matrix, classification_report\n",
    "\n",
    "# Veri setini yükle\n",
    "train_data = pd.read_csv('/data/mnist_test.csv')\n",
    "test_data = pd.read_csv('/data/mnist_test.csv')\n",
    "\n",
    "# Bağımsız değişkenleri ve hedef değişkeni ayır\n",
    "X_train = train_data.drop('label', axis=1)\n",
    "y_train = train_data['label']\n",
    "\n",
    "X_test = test_data.drop('label', axis=1)\n",
    "y_test = test_data['label']\n"
   ]
  },
  {
   "cell_type": "markdown",
   "metadata": {},
   "source": [
    "Şimdi, K-En Yakın Komşu modelini eğitelim:"
   ]
  },
  {
   "cell_type": "code",
   "execution_count": 5,
   "metadata": {},
   "outputs": [],
   "source": [
    "\n",
    "# Veriyi ölçeklendir\n",
    "scaler_knn = StandardScaler()\n",
    "X_train_scaled_knn = scaler_knn.fit_transform(X_train)\n",
    "X_test_scaled_knn = scaler_knn.transform(X_test)\n",
    "\n",
    "# K-En Yakın Komşu modelini oluştur\n",
    "knn_model = KNeighborsClassifier(n_neighbors=5)\n",
    "\n",
    "# Modeli eğit\n",
    "knn_model.fit(X_train_scaled_knn, y_train)\n",
    "\n",
    "# Test veri seti üzerinde tahmin yap\n",
    "y_pred = knn_model.predict(X_test_scaled_knn)"
   ]
  },
  {
   "cell_type": "markdown",
   "metadata": {},
   "source": [
    "Şimdi, değerlendirme ölçütlerini kullanarak modelin performansını değerlendirelim:"
   ]
  },
  {
   "cell_type": "code",
   "execution_count": 6,
   "metadata": {},
   "outputs": [
    {
     "name": "stdout",
     "output_type": "stream",
     "text": [
      "Confusion Matrix:\n",
      "[[ 967    1    1    1    0    4    5    1    0    0]\n",
      " [   0 1130    2    2    0    0    1    0    0    0]\n",
      " [  14   11  962   15    4    1    5   13    6    1]\n",
      " [   0    5    8  970    1    8    1   11    4    2]\n",
      " [   0    9    9    3  927    1    1    3    1   28]\n",
      " [   9    6    2   29    5  817   13    2    3    6]\n",
      " [  13    9    4    1    1    5  924    0    1    0]\n",
      " [   0   22    6    6    7    1    0  954    0   32]\n",
      " [   6    9    8   21    4   35    4    8  874    5]\n",
      " [   3    7    6    8   13    3    0   26    4  939]]\n",
      "Classification Report:\n",
      "              precision    recall  f1-score   support\n",
      "\n",
      "           0       0.96      0.99      0.97       980\n",
      "           1       0.93      1.00      0.96      1135\n",
      "           2       0.95      0.93      0.94      1032\n",
      "           3       0.92      0.96      0.94      1010\n",
      "           4       0.96      0.94      0.95       982\n",
      "           5       0.93      0.92      0.92       892\n",
      "           6       0.97      0.96      0.97       958\n",
      "           7       0.94      0.93      0.93      1028\n",
      "           8       0.98      0.90      0.94       974\n",
      "           9       0.93      0.93      0.93      1009\n",
      "\n",
      "    accuracy                           0.95     10000\n",
      "   macro avg       0.95      0.95      0.95     10000\n",
      "weighted avg       0.95      0.95      0.95     10000\n",
      "\n",
      "Accuracy: 0.9464\n",
      "Precision: 0.9468869119484309\n",
      "Recall: 0.9464\n",
      "F1 Score: 0.9462566241914543\n"
     ]
    }
   ],
   "source": [
    "# Karışıklık matrisini oluştur\n",
    "conf_matrix = confusion_matrix(y_test, y_pred)\n",
    "print(\"Confusion Matrix:\")\n",
    "print(conf_matrix)\n",
    "\n",
    "# Sınıflandırma raporu\n",
    "class_report = classification_report(y_test, y_pred)\n",
    "print(\"Classification Report:\")\n",
    "print(class_report)\n",
    "\n",
    "# Değerlendirme ölçütlerini hesapla\n",
    "accuracy = accuracy_score(y_test, y_pred)\n",
    "precision = precision_score(y_test, y_pred, average='weighted')\n",
    "recall = recall_score(y_test, y_pred, average='weighted')\n",
    "f1 = f1_score(y_test, y_pred, average='weighted')\n",
    "\n",
    "print(f\"Accuracy: {accuracy}\")\n",
    "print(f\"Precision: {precision}\")\n",
    "print(f\"Recall: {recall}\")\n",
    "print(f\"F1 Score: {f1}\")\n"
   ]
  },
  {
   "cell_type": "code",
   "execution_count": null,
   "metadata": {},
   "outputs": [],
   "source": [
    "\n",
    "\n",
    "\n"
   ]
  }
 ],
 "metadata": {
  "kernelspec": {
   "display_name": "Python 3",
   "language": "python",
   "name": "python3"
  },
  "language_info": {
   "codemirror_mode": {
    "name": "ipython",
    "version": 3
   },
   "file_extension": ".py",
   "mimetype": "text/x-python",
   "name": "python",
   "nbconvert_exporter": "python",
   "pygments_lexer": "ipython3",
   "version": "3.11.5"
  }
 },
 "nbformat": 4,
 "nbformat_minor": 2
}
