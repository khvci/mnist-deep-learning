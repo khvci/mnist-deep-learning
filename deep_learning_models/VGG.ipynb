{
 "cells": [
  {
   "cell_type": "code",
   "execution_count": 1,
   "metadata": {},
   "outputs": [
    {
     "name": "stderr",
     "output_type": "stream",
     "text": [
      "2023-12-23 14:23:54.833883: I external/local_tsl/tsl/cuda/cudart_stub.cc:31] Could not find cuda drivers on your machine, GPU will not be used.\n",
      "2023-12-23 14:23:55.125201: E external/local_xla/xla/stream_executor/cuda/cuda_dnn.cc:9261] Unable to register cuDNN factory: Attempting to register factory for plugin cuDNN when one has already been registered\n",
      "2023-12-23 14:23:55.125274: E external/local_xla/xla/stream_executor/cuda/cuda_fft.cc:607] Unable to register cuFFT factory: Attempting to register factory for plugin cuFFT when one has already been registered\n",
      "2023-12-23 14:23:55.187284: E external/local_xla/xla/stream_executor/cuda/cuda_blas.cc:1515] Unable to register cuBLAS factory: Attempting to register factory for plugin cuBLAS when one has already been registered\n",
      "2023-12-23 14:23:55.314053: I external/local_tsl/tsl/cuda/cudart_stub.cc:31] Could not find cuda drivers on your machine, GPU will not be used.\n",
      "2023-12-23 14:23:55.315153: I tensorflow/core/platform/cpu_feature_guard.cc:182] This TensorFlow binary is optimized to use available CPU instructions in performance-critical operations.\n",
      "To enable the following instructions: AVX2 FMA, in other operations, rebuild TensorFlow with the appropriate compiler flags.\n",
      "2023-12-23 14:23:56.591134: W tensorflow/compiler/tf2tensorrt/utils/py_utils.cc:38] TF-TRT Warning: Could not find TensorRT\n",
      "2023-12-23 14:24:01.775531: W external/local_tsl/tsl/framework/cpu_allocator_impl.cc:83] Allocation of 1204224000 exceeds 10% of free system memory.\n",
      "2023-12-23 14:24:03.712604: W external/local_tsl/tsl/framework/cpu_allocator_impl.cc:83] Allocation of 200704000 exceeds 10% of free system memory.\n",
      "2023-12-23 14:25:01.059079: W external/local_tsl/tsl/framework/cpu_allocator_impl.cc:83] Allocation of 2890137600 exceeds 10% of free system memory.\n"
     ]
    },
    {
     "name": "stdout",
     "output_type": "stream",
     "text": [
      "Epoch 1/5\n"
     ]
    },
    {
     "name": "stderr",
     "output_type": "stream",
     "text": [
      "2023-12-23 14:25:27.307685: W external/local_tsl/tsl/framework/cpu_allocator_impl.cc:83] Allocation of 822083584 exceeds 10% of free system memory.\n",
      "2023-12-23 14:25:27.521200: W external/local_tsl/tsl/framework/cpu_allocator_impl.cc:83] Allocation of 822083584 exceeds 10% of free system memory.\n"
     ]
    },
    {
     "name": "stdout",
     "output_type": "stream",
     "text": [
      "75/75 [==============================] - 2279s 30s/step - loss: 2.3559 - accuracy: 0.1158 - val_loss: 2.3021 - val_accuracy: 0.1175\n",
      "Epoch 2/5\n",
      "75/75 [==============================] - 2110s 28s/step - loss: 2.3012 - accuracy: 0.1156 - val_loss: 2.3021 - val_accuracy: 0.1175\n",
      "Epoch 3/5\n",
      "75/75 [==============================] - 2113s 28s/step - loss: 2.3003 - accuracy: 0.1156 - val_loss: 2.3025 - val_accuracy: 0.1175\n",
      "Epoch 4/5\n",
      "75/75 [==============================] - 2112s 28s/step - loss: 2.2998 - accuracy: 0.1156 - val_loss: 2.3027 - val_accuracy: 0.1175\n",
      "Epoch 5/5\n",
      "75/75 [==============================] - 2170s 29s/step - loss: 2.3001 - accuracy: 0.1156 - val_loss: 2.3029 - val_accuracy: 0.1175\n",
      "32/32 [==============================] - 125s 4s/step\n",
      "Accuracy: 0.107\n",
      "Precision: 0.011448999999999999\n",
      "Recall: 0.107\n",
      "F1 Score: 0.020684733514001807\n"
     ]
    },
    {
     "name": "stderr",
     "output_type": "stream",
     "text": [
      "/usr/local/lib/python3.10/dist-packages/sklearn/metrics/_classification.py:1471: UndefinedMetricWarning: Precision is ill-defined and being set to 0.0 in labels with no predicted samples. Use `zero_division` parameter to control this behavior.\n",
      "  _warn_prf(average, modifier, msg_start, len(result))\n"
     ]
    }
   ],
   "source": [
    "import pandas as pd\n",
    "import numpy as np\n",
    "import tensorflow as tf\n",
    "from tensorflow.keras import layers, models\n",
    "from tensorflow.keras.applications import VGG16\n",
    "from tensorflow.keras.utils import to_categorical\n",
    "from sklearn.metrics import accuracy_score, precision_score, recall_score, f1_score\n",
    "\n",
    "# Veri setini yükle\n",
    "train_data = pd.read_csv('/home/kpo/Downloads/mnist-deep-learning/data/mnist_train.csv')\n",
    "test_data = pd.read_csv('/home/kpo/Downloads/mnist-deep-learning/data/mnist_test.csv')\n",
    "\n",
    "# Veriyi küçült\n",
    "train_data = train_data.sample(frac=0.1, random_state=1)\n",
    "test_data = test_data.sample(frac=0.1, random_state=1)\n",
    "\n",
    "# Bağımsız değişkenleri ve hedef değişkeni ayır\n",
    "X_train = train_data.drop('label', axis=1).values\n",
    "y_train = to_categorical(train_data['label'].values)\n",
    "\n",
    "X_test = test_data.drop('label', axis=1).values\n",
    "y_test = to_categorical(test_data['label'].values)\n",
    "\n",
    "# Veriyi normalize et\n",
    "X_train = X_train.astype('float32') / 255\n",
    "X_test = X_test.astype('float32') / 255\n",
    "\n",
    "# Giriş boyutlarını yeniden boyutlandır ve genişlet\n",
    "X_train_reshaped = X_train.reshape(-1, 28, 28, 1)\n",
    "X_test_reshaped = X_test.reshape(-1, 28, 28, 1)\n",
    "X_train_resized = tf.image.resize(X_train_reshaped, (224, 224))\n",
    "X_test_resized = tf.image.resize(X_test_reshaped, (224, 224))\n",
    "X_train_resized_rgb = np.stack((X_train_resized[:, :, :, 0],) * 3, axis=-1)\n",
    "X_test_resized_rgb = np.stack((X_test_resized[:, :, :, 0],) * 3, axis=-1)\n",
    "\n",
    "# VGG modelini oluştur\n",
    "base_model = VGG16(weights='imagenet', include_top=False, input_shape=(224, 224, 3))\n",
    "model_vgg = models.Sequential()\n",
    "model_vgg.add(base_model)\n",
    "model_vgg.add(layers.Flatten())\n",
    "model_vgg.add(layers.Dense(256, activation='relu'))\n",
    "model_vgg.add(layers.Dropout(0.5))\n",
    "model_vgg.add(layers.Dense(10, activation='softmax'))\n",
    "model_vgg.compile(optimizer='adam', loss='categorical_crossentropy', metrics=['accuracy'])\n",
    "\n",
    "# Modeli eğit\n",
    "model_vgg.fit(X_train_resized_rgb, y_train, epochs=5, batch_size=64, validation_split=0.2)\n",
    "\n",
    "# Modeli değerlendir\n",
    "y_pred_vgg = model_vgg.predict(X_test_resized_rgb)\n",
    "y_pred_vgg_classes = np.argmax(y_pred_vgg, axis=1)\n",
    "y_test_classes = np.argmax(y_test, axis=1)\n",
    "\n",
    "accuracy_vgg = accuracy_score(y_test_classes, y_pred_vgg_classes)\n",
    "precision_vgg = precision_score(y_test_classes, y_pred_vgg_classes, average='weighted')\n",
    "recall_vgg = recall_score(y_test_classes, y_pred_vgg_classes, average='weighted')\n",
    "f1_vgg = f1_score(y_test_classes, y_pred_vgg_classes, average='weighted')\n",
    "\n",
    "print(f\"Accuracy: {accuracy_vgg}\")\n",
    "print(f\"Precision: {precision_vgg}\")\n",
    "print(f\"Recall: {recall_vgg}\")\n",
    "print(f\"F1 Score: {f1_vgg}\")\n"
   ]
  }
 ],
 "metadata": {
  "kernelspec": {
   "display_name": "Python 3",
   "language": "python",
   "name": "python3"
  },
  "language_info": {
   "codemirror_mode": {
    "name": "ipython",
    "version": 3
   },
   "file_extension": ".py",
   "mimetype": "text/x-python",
   "name": "python",
   "nbconvert_exporter": "python",
   "pygments_lexer": "ipython3",
   "version": "3.10.12"
  }
 },
 "nbformat": 4,
 "nbformat_minor": 2
}
