{
 "cells": [
  {
   "cell_type": "code",
   "execution_count": 5,
   "metadata": {},
   "outputs": [
    {
     "name": "stderr",
     "output_type": "stream",
     "text": [
      "2023-12-23 12:32:27.082475: W external/local_tsl/tsl/framework/cpu_allocator_impl.cc:83] Allocation of 1204224000 exceeds 10% of free system memory.\n",
      "2023-12-23 12:32:28.811977: W external/local_tsl/tsl/framework/cpu_allocator_impl.cc:83] Allocation of 200704000 exceeds 10% of free system memory.\n",
      "2023-12-23 12:32:59.774305: W external/local_tsl/tsl/framework/cpu_allocator_impl.cc:83] Allocation of 2890137600 exceeds 10% of free system memory.\n"
     ]
    },
    {
     "name": "stdout",
     "output_type": "stream",
     "text": [
      "Epoch 1/5\n"
     ]
    },
    {
     "name": "stderr",
     "output_type": "stream",
     "text": [
      "2023-12-23 12:33:34.680655: W external/local_tsl/tsl/framework/cpu_allocator_impl.cc:83] Allocation of 205520896 exceeds 10% of free system memory.\n",
      "2023-12-23 12:33:34.798711: W external/local_tsl/tsl/framework/cpu_allocator_impl.cc:83] Allocation of 205520896 exceeds 10% of free system memory.\n"
     ]
    },
    {
     "name": "stdout",
     "output_type": "stream",
     "text": [
      "75/75 [==============================] - 1226s 16s/step - loss: 1.7060 - accuracy: 0.8135 - val_loss: 0.4456 - val_accuracy: 0.9225\n",
      "Epoch 2/5\n",
      "75/75 [==============================] - 1103s 15s/step - loss: 0.4614 - accuracy: 0.8992 - val_loss: 0.9896 - val_accuracy: 0.8075\n",
      "Epoch 3/5\n",
      "75/75 [==============================] - 1099s 15s/step - loss: 0.3207 - accuracy: 0.9140 - val_loss: 1.3939 - val_accuracy: 0.8708\n",
      "Epoch 4/5\n",
      "75/75 [==============================] - 1225s 16s/step - loss: 0.2410 - accuracy: 0.9379 - val_loss: 0.6854 - val_accuracy: 0.8833\n",
      "Epoch 5/5\n",
      "75/75 [==============================] - 1173s 16s/step - loss: 0.2299 - accuracy: 0.9406 - val_loss: 1.3887 - val_accuracy: 0.9025\n",
      "32/32 [==============================] - 43s 1s/step\n",
      "Accuracy: 0.911\n",
      "Precision: 0.9332158515162203\n",
      "Recall: 0.911\n",
      "F1 Score: 0.9149221977768821\n"
     ]
    }
   ],
   "source": [
    "import pandas as pd\n",
    "import numpy as np\n",
    "import tensorflow as tf\n",
    "from tensorflow.keras import layers, models\n",
    "from tensorflow.keras.applications import DenseNet121\n",
    "from tensorflow.keras.utils import to_categorical\n",
    "from sklearn.metrics import accuracy_score, precision_score, recall_score, f1_score\n",
    "\n",
    "# Veri setini yükle\n",
    "train_data = pd.read_csv('/data/mnist_train.csv')\n",
    "test_data = pd.read_csv('/data/mnist_test.csv')\n",
    "\n",
    "# Veriyi küçült\n",
    "train_data = train_data.sample(frac=0.1, random_state=1)\n",
    "test_data = test_data.sample(frac=0.1, random_state=1)\n",
    "\n",
    "# Bağımsız değişkenleri ve hedef değişkeni ayır\n",
    "X_train = train_data.drop('label', axis=1).values\n",
    "y_train = to_categorical(train_data['label'].values)\n",
    "\n",
    "X_test = test_data.drop('label', axis=1).values\n",
    "y_test = to_categorical(test_data['label'].values)\n",
    "\n",
    "# Veriyi normalize et\n",
    "X_train = X_train.astype('float32') / 255\n",
    "X_test = X_test.astype('float32') / 255\n",
    "\n",
    "# Giriş boyutlarını (28, 28, 1) olarak yeniden boyutlandır ve genişlet\n",
    "X_train_reshaped = X_train.reshape(-1, 28, 28, 1)\n",
    "X_test_reshaped = X_test.reshape(-1, 28, 28, 1)\n",
    "X_train_resized = tf.image.resize(X_train_reshaped, (224, 224))\n",
    "X_test_resized = tf.image.resize(X_test_reshaped, (224, 224))\n",
    "X_train_resized_rgb = np.stack((X_train_resized[:, :, :, 0],) * 3, axis=-1)\n",
    "X_test_resized_rgb = np.stack((X_test_resized[:, :, :, 0],) * 3, axis=-1)\n",
    "\n",
    "# DenseNet modelini oluştur\n",
    "base_model = DenseNet121(weights='imagenet', include_top=False, input_shape=(224, 224, 3))\n",
    "model_densenet = models.Sequential()\n",
    "model_densenet.add(base_model)\n",
    "model_densenet.add(layers.Flatten())\n",
    "model_densenet.add(layers.Dense(256, activation='relu'))\n",
    "model_densenet.add(layers.Dropout(0.5))\n",
    "model_densenet.add(layers.Dense(10, activation='softmax'))\n",
    "model_densenet.compile(optimizer='adam', loss='categorical_crossentropy', metrics=['accuracy'])\n",
    "\n",
    "# Modeli eğit\n",
    "model_densenet.fit(X_train_resized_rgb, y_train, epochs=5, batch_size=64, validation_split=0.2)\n",
    "\n",
    "# Modeli değerlendir\n",
    "y_pred_densenet = model_densenet.predict(X_test_resized_rgb)\n",
    "y_pred_densenet_classes = np.argmax(y_pred_densenet, axis=1)\n",
    "y_test_classes = np.argmax(y_test, axis=1)\n",
    "\n",
    "accuracy_densenet = accuracy_score(y_test_classes, y_pred_densenet_classes)\n",
    "precision_densenet = precision_score(y_test_classes, y_pred_densenet_classes, average='weighted')\n",
    "recall_densenet = recall_score(y_test_classes, y_pred_densenet_classes, average='weighted')\n",
    "f1_densenet = f1_score(y_test_classes, y_pred_densenet_classes, average='weighted')\n",
    "\n",
    "print(f\"Accuracy: {accuracy_densenet}\")\n",
    "print(f\"Precision: {precision_densenet}\")\n",
    "print(f\"Recall: {recall_densenet}\")\n",
    "print(f\"F1 Score: {f1_densenet}\")\n"
   ]
  }
 ],
 "metadata": {
  "kernelspec": {
   "display_name": "Python 3",
   "language": "python",
   "name": "python3"
  },
  "language_info": {
   "codemirror_mode": {
    "name": "ipython",
    "version": 3
   },
   "file_extension": ".py",
   "mimetype": "text/x-python",
   "name": "python",
   "nbconvert_exporter": "python",
   "pygments_lexer": "ipython3",
   "version": "3.10.12"
  }
 },
 "nbformat": 4,
 "nbformat_minor": 2
}
