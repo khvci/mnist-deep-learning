{
 "cells": [
  {
   "cell_type": "code",
   "execution_count": 1,
   "metadata": {},
   "outputs": [
    {
     "name": "stderr",
     "output_type": "stream",
     "text": [
      "2023-12-23 00:52:56.544560: I external/local_tsl/tsl/cuda/cudart_stub.cc:31] Could not find cuda drivers on your machine, GPU will not be used.\n",
      "2023-12-23 00:52:56.854787: E external/local_xla/xla/stream_executor/cuda/cuda_dnn.cc:9261] Unable to register cuDNN factory: Attempting to register factory for plugin cuDNN when one has already been registered\n",
      "2023-12-23 00:52:56.854852: E external/local_xla/xla/stream_executor/cuda/cuda_fft.cc:607] Unable to register cuFFT factory: Attempting to register factory for plugin cuFFT when one has already been registered\n",
      "2023-12-23 00:52:56.916044: E external/local_xla/xla/stream_executor/cuda/cuda_blas.cc:1515] Unable to register cuBLAS factory: Attempting to register factory for plugin cuBLAS when one has already been registered\n",
      "2023-12-23 00:52:57.045856: I external/local_tsl/tsl/cuda/cudart_stub.cc:31] Could not find cuda drivers on your machine, GPU will not be used.\n",
      "2023-12-23 00:52:57.048179: I tensorflow/core/platform/cpu_feature_guard.cc:182] This TensorFlow binary is optimized to use available CPU instructions in performance-critical operations.\n",
      "To enable the following instructions: AVX2 FMA, in other operations, rebuild TensorFlow with the appropriate compiler flags.\n",
      "2023-12-23 00:52:58.305942: W tensorflow/compiler/tf2tensorrt/utils/py_utils.cc:38] TF-TRT Warning: Could not find TensorRT\n",
      "2023-12-23 00:53:03.924700: W external/local_tsl/tsl/framework/cpu_allocator_impl.cc:83] Allocation of 12042240000 exceeds 10% of free system memory.\n",
      "2023-12-23 00:53:21.317741: W external/local_tsl/tsl/framework/cpu_allocator_impl.cc:83] Allocation of 2007040000 exceeds 10% of free system memory.\n"
     ]
    },
    {
     "name": "stdout",
     "output_type": "stream",
     "text": [
      "Downloading data from https://storage.googleapis.com/tensorflow/keras-applications/densenet/densenet121_weights_tf_dim_ordering_tf_kernels_notop.h5\n",
      "29084464/29084464 [==============================] - 6s 0us/step\n"
     ]
    },
    {
     "ename": "",
     "evalue": "",
     "output_type": "error",
     "traceback": [
      "\u001b[1;31mThe Kernel crashed while executing code in the the current cell or a previous cell. Please review the code in the cell(s) to identify a possible cause of the failure. Click <a href='https://aka.ms/vscodeJupyterKernelCrash'>here</a> for more info. View Jupyter <a href='command:jupyter.viewOutput'>log</a> for further details."
     ]
    }
   ],
   "source": [
    "import pandas as pd\n",
    "import numpy as np\n",
    "import tensorflow as tf\n",
    "from tensorflow.tools import layers, models\n",
    "from tensorflow.core import DenseNet121\n",
    "from tensorflow.tools import to_categorical\n",
    "from sklearn.metrics import accuracy_score, precision_score, recall_score, f1_score\n",
    "\n",
    "# Veri setini yükle\n",
    "train_data = pd.read_csv('/home/kpo/Downloads/mnist-deep-learning/data/mnist_train.csv')\n",
    "test_data = pd.read_csv('/home/kpo/Downloads/mnist-deep-learning/data/mnist_test.csv')\n",
    "\n",
    "# Veriyi küçült\n",
    "train_data = train_data.sample(frac=0.1, random_state=1)\n",
    "test_data = test_data.sample(frac=0.1, random_state=1)\n",
    "\n",
    "# Bağımsız değişkenleri ve hedef değişkeni ayır\n",
    "X_train = train_data.drop('label', axis=1).values\n",
    "y_train = to_categorical(train_data['label'].values)\n",
    "\n",
    "X_test = test_data.drop('label', axis=1).values\n",
    "y_test = to_categorical(test_data['label'].values)\n",
    "\n",
    "# Veriyi normalize et\n",
    "X_train = X_train.astype('float32') / 255\n",
    "X_test = X_test.astype('float32') / 255\n",
    "\n",
    "# Giriş boyutlarını (28, 28, 1) olarak yeniden boyutlandır ve genişlet\n",
    "X_train_reshaped = X_train.reshape(-1, 28, 28, 1)\n",
    "X_test_reshaped = X_test.reshape(-1, 28, 28, 1)\n",
    "X_train_resized = tf.image.resize(X_train_reshaped, (224, 224))\n",
    "X_test_resized = tf.image.resize(X_test_reshaped, (224, 224))\n",
    "X_train_resized_rgb = np.stack((X_train_resized[:, :, :, 0],) * 3, axis=-1)\n",
    "X_test_resized_rgb = np.stack((X_test_resized[:, :, :, 0],) * 3, axis=-1)\n",
    "\n",
    "# DenseNet modelini oluştur\n",
    "base_model = DenseNet121(weights='imagenet', include_top=False, input_shape=(224, 224, 3))\n",
    "model_densenet = models.Sequential()\n",
    "model_densenet.add(base_model)\n",
    "model_densenet.add(layers.Flatten())\n",
    "model_densenet.add(layers.Dense(256, activation='relu'))\n",
    "model_densenet.add(layers.Dropout(0.5))\n",
    "model_densenet.add(layers.Dense(10, activation='softmax'))\n",
    "model_densenet.compile(optimizer='adam', loss='categorical_crossentropy', metrics=['accuracy'])\n",
    "\n",
    "# Modeli eğit\n",
    "model_densenet.fit(X_train_resized_rgb, y_train, epochs=5, batch_size=64, validation_split=0.2)\n",
    "\n",
    "# Modeli değerlendir\n",
    "y_pred_densenet = model_densenet.predict(X_test_resized_rgb)\n",
    "y_pred_densenet_classes = np.argmax(y_pred_densenet, axis=1)\n",
    "y_test_classes = np.argmax(y_test, axis=1)\n",
    "\n",
    "accuracy_densenet = accuracy_score(y_test_classes, y_pred_densenet_classes)\n",
    "precision_densenet = precision_score(y_test_classes, y_pred_densenet_classes, average='weighted')\n",
    "recall_densenet = recall_score(y_test_classes, y_pred_densenet_classes, average='weighted')\n",
    "f1_densenet = f1_score(y_test_classes, y_pred_densenet_classes, average='weighted')\n",
    "\n",
    "print(f\"Accuracy: {accuracy_densenet}\")\n",
    "print(f\"Precision: {precision_densenet}\")\n",
    "print(f\"Recall: {recall_densenet}\")\n",
    "print(f\"F1 Score: {f1_densenet}\")\n"
   ]
  }
 ],
 "metadata": {
  "kernelspec": {
   "display_name": "Python 3",
   "language": "python",
   "name": "python3"
  },
  "language_info": {
   "codemirror_mode": {
    "name": "ipython",
    "version": 3
   },
   "file_extension": ".py",
   "mimetype": "text/x-python",
   "name": "python",
   "nbconvert_exporter": "python",
   "pygments_lexer": "ipython3",
   "version": "3.10.12"
  }
 },
 "nbformat": 4,
 "nbformat_minor": 2
}
