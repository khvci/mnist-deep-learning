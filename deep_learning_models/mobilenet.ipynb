{
 "cells": [
  {
   "cell_type": "code",
   "execution_count": 1,
   "metadata": {},
   "outputs": [
    {
     "name": "stderr",
     "output_type": "stream",
     "text": [
      "2023-12-23 11:58:10.130879: I external/local_tsl/tsl/cuda/cudart_stub.cc:31] Could not find cuda drivers on your machine, GPU will not be used.\n",
      "2023-12-23 11:58:10.465834: E external/local_xla/xla/stream_executor/cuda/cuda_dnn.cc:9261] Unable to register cuDNN factory: Attempting to register factory for plugin cuDNN when one has already been registered\n",
      "2023-12-23 11:58:10.465900: E external/local_xla/xla/stream_executor/cuda/cuda_fft.cc:607] Unable to register cuFFT factory: Attempting to register factory for plugin cuFFT when one has already been registered\n",
      "2023-12-23 11:58:10.528263: E external/local_xla/xla/stream_executor/cuda/cuda_blas.cc:1515] Unable to register cuBLAS factory: Attempting to register factory for plugin cuBLAS when one has already been registered\n",
      "2023-12-23 11:58:10.662368: I external/local_tsl/tsl/cuda/cudart_stub.cc:31] Could not find cuda drivers on your machine, GPU will not be used.\n",
      "2023-12-23 11:58:10.663986: I tensorflow/core/platform/cpu_feature_guard.cc:182] This TensorFlow binary is optimized to use available CPU instructions in performance-critical operations.\n",
      "To enable the following instructions: AVX2 FMA, in other operations, rebuild TensorFlow with the appropriate compiler flags.\n",
      "2023-12-23 11:58:11.809384: W tensorflow/compiler/tf2tensorrt/utils/py_utils.cc:38] TF-TRT Warning: Could not find TensorRT\n",
      "2023-12-23 11:58:16.917907: W external/local_tsl/tsl/framework/cpu_allocator_impl.cc:83] Allocation of 1204224000 exceeds 10% of free system memory.\n",
      "2023-12-23 11:58:22.291054: W external/local_tsl/tsl/framework/cpu_allocator_impl.cc:83] Allocation of 2890137600 exceeds 10% of free system memory.\n"
     ]
    },
    {
     "name": "stdout",
     "output_type": "stream",
     "text": [
      "Epoch 1/5\n",
      "75/75 [==============================] - 314s 4s/step - loss: 2.0074 - accuracy: 0.8494 - val_loss: 3.0423 - val_accuracy: 0.5592\n",
      "Epoch 2/5\n",
      "75/75 [==============================] - 285s 4s/step - loss: 0.1923 - accuracy: 0.9504 - val_loss: 0.2003 - val_accuracy: 0.9650\n",
      "Epoch 3/5\n",
      "75/75 [==============================] - 306s 4s/step - loss: 0.1555 - accuracy: 0.9631 - val_loss: 0.1085 - val_accuracy: 0.9725\n",
      "Epoch 4/5\n",
      "75/75 [==============================] - 323s 4s/step - loss: 0.1281 - accuracy: 0.9700 - val_loss: 0.1224 - val_accuracy: 0.9750\n",
      "Epoch 5/5\n",
      "75/75 [==============================] - 331s 4s/step - loss: 0.1538 - accuracy: 0.9667 - val_loss: 0.2095 - val_accuracy: 0.9567\n",
      "32/32 [==============================] - 12s 348ms/step\n",
      "MobileNet Model:\n",
      "Accuracy: 0.956\n",
      "Precision: 0.958169132677347\n",
      "Recall: 0.956\n",
      "F1 Score: 0.956035355296241\n"
     ]
    }
   ],
   "source": [
    "import pandas as pd\n",
    "import numpy as np\n",
    "import tensorflow as tf\n",
    "from tensorflow.keras import layers, models\n",
    "from tensorflow.keras.applications import MobileNet\n",
    "from tensorflow.keras.utils import to_categorical\n",
    "from sklearn.metrics import accuracy_score, precision_score, recall_score, f1_score\n",
    "\n",
    "# Veri setini yükle\n",
    "train_data = pd.read_csv('/home/kpo/Downloads/mnist-deep-learning/data/mnist_train.csv')\n",
    "test_data = pd.read_csv('/home/kpo/Downloads/mnist-deep-learning/data/mnist_test.csv')\n",
    "\n",
    "# Veriyi küçült\n",
    "train_data = train_data.sample(frac=0.1, random_state=1)\n",
    "test_data = test_data.sample(frac=0.1, random_state=1)\n",
    "\n",
    "# Bağımsız değişkenleri ve hedef değişkeni ayır\n",
    "X_train = train_data.drop('label', axis=1).values\n",
    "y_train = to_categorical(train_data['label'].values)\n",
    "\n",
    "X_test = test_data.drop('label', axis=1).values\n",
    "y_test = to_categorical(test_data['label'].values)\n",
    "\n",
    "# Veriyi normalize et\n",
    "X_train = X_train.astype('float32') / 255\n",
    "X_test = X_test.astype('float32') / 255\n",
    "\n",
    "# Giriş boyutlarını yeniden boyutlandır ve genişlet\n",
    "X_train_reshaped = X_train.reshape(-1, 28, 28, 1)\n",
    "X_test_reshaped = X_test.reshape(-1, 28, 28, 1)\n",
    "X_train_resized = tf.image.resize(X_train_reshaped, (224, 224))\n",
    "X_test_resized = tf.image.resize(X_test_reshaped, (224, 224))\n",
    "X_train_resized_rgb = np.stack((X_train_resized[:, :, :, 0],) * 3, axis=-1)\n",
    "X_test_resized_rgb = np.stack((X_test_resized[:, :, :, 0],) * 3, axis=-1)\n",
    "\n",
    "# MobileNet modelini oluştur\n",
    "base_model = MobileNet(weights='imagenet', include_top=False, input_shape=(224, 224, 3))\n",
    "model_mobilenet = models.Sequential()\n",
    "model_mobilenet.add(base_model)\n",
    "model_mobilenet.add(layers.Flatten())\n",
    "model_mobilenet.add(layers.Dense(256, activation='relu'))\n",
    "model_mobilenet.add(layers.Dropout(0.5))\n",
    "model_mobilenet.add(layers.Dense(10, activation='softmax'))\n",
    "model_mobilenet.compile(optimizer='adam', loss='categorical_crossentropy', metrics=['accuracy'])\n",
    "\n",
    "# Modeli eğit\n",
    "model_mobilenet.fit(X_train_resized_rgb, y_train, epochs=5, batch_size=64, validation_split=0.2)\n",
    "\n",
    "# Modeli değerlendir\n",
    "y_pred_mobilenet = model_mobilenet.predict(X_test_resized_rgb)\n",
    "y_pred_mobilenet_classes = np.argmax(y_pred_mobilenet, axis=1)\n",
    "y_test_classes = np.argmax(y_test, axis=1)\n",
    "\n",
    "accuracy_mobilenet = accuracy_score(y_test_classes, y_pred_mobilenet_classes)\n",
    "precision_mobilenet = precision_score(y_test_classes, y_pred_mobilenet_classes, average='weighted')\n",
    "recall_mobilenet = recall_score(y_test_classes, y_pred_mobilenet_classes, average='weighted')\n",
    "f1_mobilenet = f1_score(y_test_classes, y_pred_mobilenet_classes, average='weighted')\n",
    "\n",
    "print(f\"Accuracy: {accuracy_mobilenet}\")\n",
    "print(f\"Precision: {precision_mobilenet}\")\n",
    "print(f\"Recall: {recall_mobilenet}\")\n",
    "print(f\"F1 Score: {f1_mobilenet}\")\n"
   ]
  }
 ],
 "metadata": {
  "kernelspec": {
   "display_name": "base",
   "language": "python",
   "name": "python3"
  },
  "language_info": {
   "codemirror_mode": {
    "name": "ipython",
    "version": 3
   },
   "file_extension": ".py",
   "mimetype": "text/x-python",
   "name": "python",
   "nbconvert_exporter": "python",
   "pygments_lexer": "ipython3",
   "version": "3.10.12"
  }
 },
 "nbformat": 4,
 "nbformat_minor": 2
}
